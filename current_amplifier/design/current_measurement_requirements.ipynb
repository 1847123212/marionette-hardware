{
 "metadata": {
  "name": "",
  "signature": "sha256:aac7b48349b35c2b051acb7793489398d596723eaf9bdc7e22f455e2efdcee4b"
 },
 "nbformat": 3,
 "nbformat_minor": 0,
 "worksheets": [
  {
   "cells": [
    {
     "cell_type": "markdown",
     "metadata": {},
     "source": [
      "start this python session with:\n",
      "\n",
      "ipython notebook --pylab inline current_measurement_requirements.ipynb\n",
      "\n",
      "The 'inline' prints graphs inline.\n"
     ]
    },
    {
     "cell_type": "markdown",
     "metadata": {},
     "source": [
      "#Current Measurement Board Requirements\n",
      "\n",
      "* Must have a gain of 60 \n",
      "* Must have a GBW of 100kHz * 60 = 6MHz\n",
      "* Must measure current range of (+-500uA, +-500mA)\n",
      "* Must have a maximum differential voltage of >= 25mV\n",
      "* Must have single ended analog line out\n",
      "* Must have low current ground reference\n",
      "* Must have two oscilloscope channels available: instrumentation_amp_out, Vref, and earth GND\n",
      "* Must be possible to run on two CR2032 coin cells or on power from external power\n",
      "* Must be able to short instrumentation amp terminals to check offset voltage\n",
      "* Must have universal pad for different shunt resistors on end of I.A.\n",
      "* Must have an onboard ADC.\n",
      "* Must have SPI Interface of 25Mbits/s\n",
      "* Must have >= 16bit resolution\n",
      "* Must have disable jumper on SPI ADC\n",
      "* Must be able to have ADC sample from instrumentation amp output or reference voltage\n",
      "* Must have EN line on ADC\n",
      "* Should have 0603 pads for filtering on differential end of I.A.\n",
      "* Must have signal via + GND clip soldermask\n",
      "* Should size shunt vias to accept 0.1\" terminal block\n",
      "* Should have two vias in each of three scope probes (this is to land the pointy scope probe)\n",
      "* Should have 1.1mm diameter via for scope probe\n",
      "\n",
      "\n",
      "\n",
      "\n",
      "\n",
      "\n",
      "\n",
      "\n",
      "\n",
      "\n",
      "\n"
     ]
    },
    {
     "cell_type": "markdown",
     "metadata": {},
     "source": [
      "###  Selection of op amp\n",
      "\n",
      "The first target assignment for our current measurement board will be to account for all of the current in the APDM monitor board.  This includes the flash which pulls significant amounts of current at high bandwidth (>100kHz).  The current measurement must not introduce significant voltage drop or inductance.  Therefore measure the differential voltage across a shunt resistor.  Now we must choose a differential op amp.  Below are some of the op amp goodness factors:\n",
      "\n",
      "*Supply Range:* What is the operating voltage of the op amp supply? Is this convenient for battery power with CR2032s or other small size battery?\n",
      "\n",
      "*Offset Input Voltage*  What is the offset input voltage of the opamp?  This will limit the detection of small voltages corresponding to small currents.  Keep in mind that for the monitor, we want to measure (+-500uA, +-500mA). With about a 210m ohm resistor.  This equates to 105uV when sensing a 500uA current over a 210mOhm load.  This suggests that our maximum allowable offset input voltage should be (a factor of ten less) about 10uV.  This is somewhat fungible.   \n",
      "\n",
      "*Input Voltage Range*  What is the common  mode operational input voltage range of the differential opamp?  The common mode voltage of the signals on the monitor will be (relative to DGND on the monitor), 3.0V, and 1.8V . It is advantageous if the input voltage range can go below zero.  It is important that the input range of the opamp can accomodate the voltage range of our target signals (on the monitor).  Even though our embedded system current sensing on power supply rails has minimum voltage swings, and we can set the reference arbitrarily, it is nice to set the reference to something convenient like ground and not think about it.  \n",
      "\n",
      "*Gain Bandwidth*  For current measurement of events on the monitor, we need about 100kHz of bandwidth. Of course, it is also necessary to have some gain.  For exact reasons that are lost in documentation, the gain should be 60.  So therefore the gain bandwidth should be 100kHz * 60 = 6MHz.  \n",
      "\n",
      "*Bidirectional input*  Instrumentation amp should be able to sense both positive and negative voltage polarities with respect to the input pins. \n",
      "\n",
      "*Common Mode Rejection Ratio*  Movement in the supply rails to the IA should not impact the output of the IA.  If the smallest voltage to be measured is say, 25uV, and the power supply rail is say 5V, then increasing the power supply 1V should increase the output voltage less than 25uV.  1V/25uV = 46dB.  This is an easy spec to meet, as most of the differential op amps have a PSRR of greater than 60 dB\n",
      "\n",
      "\n",
      "**Differential Op Amps to choose from**\n",
      "\n",
      "*AD8129* High speed (200MHz) differential receiver used in the chip-whisperer side channel power measurement project.  The BW is more than necessary and the input offset voltage is not awesome (200uV, 800uV), but it does run on a wide range of supplies (4.5V,25.2V), however the input voltage range is small (0.5V).\n",
      "\n",
      "*AD8210*  High voltage bi-directional current shunt monitor.  Power supply range (4.5V, 5.0V, 5.5V), which means it would run off two CR2032 batteries, or a 5V board supply.  The offset voltage is 1mV which would make small current measurements difficult.  450kHz bandwidth, which is below our spec.  Gain of 20.  This part is designed for large current measurements in the context of motors and automotive systems, rather than small current measurements with high BW spikes.  This chip would meet most of our needs, just be low bandwidth.\n",
      "\n",
      "*AD8421*  Instrumentation Amp.  Low noise (3nV/sqrt(Hz) 1kHz).  Low input offset voltage (60uV).  Power supply: (5V, 36V).  10MHz bandwidth.  Input voltage window (-Vs+2.3V, +Vs-1.8V) is narrow.  Does not explicitly say that it is bi-directional. Gain set by resistor (G = 1 to 10000).\n",
      "\n",
      "*AD8429* Instrumentation Amp.  Power supply (8V, 36V) which would require three CR2032 batteries, or a 9V battery. Low noise (1nV/sqrt(Hz) at 1kHz input noise). 150uV input offset noise.  15MHz bandwidth.  Gain set by resistor (G = 1 to 10000).\n",
      "\n",
      "\n",
      "\n",
      "\n"
     ]
    },
    {
     "cell_type": "code",
     "collapsed": false,
     "input": [],
     "language": "python",
     "metadata": {},
     "outputs": []
    },
    {
     "cell_type": "markdown",
     "metadata": {},
     "source": [
      "###  Selection of ADC\n",
      "\n",
      "Putting an ADC on the board with adequate resolution and bandwidth to sample signals and output as digital SPI makes the current measurement board more useful.  The ADC selection proves difficult as our requirements tend to decimate the field and leave a cavity in the venn diagram.  To summarize, the SPI interface tops out at 40MHz which means a 16bit ADC can barely sample above a MHz before running out of bandwidth given the bus overhead.  Getting beyond the 10 bit, 100kHz, unipolar requirement, the field of ADCs starts getting much more expensive, and the number of manufacturers dwindles to four: TI, Analog, Maxim, Linear.   The main requirements are:\n",
      "\n",
      "SPI interface:  This interface tends to dissapear when the bandwidth of sampling goes up above about 100kHz, 12 bits.\n",
      "\n",
      "Resolution of 14 or 16 bits:  10 or 12 bit resolution is cheap or easy.  16 bits starts to get expensive.\n",
      "\n",
      "Sampling speed of >100kHz:  \n",
      "\n",
      "Bipolar: ADC can process values above and below the reference voltage (negative values).\n",
      "\n",
      "Cost:  Somewhat flexible, but we would prefer to be under $10, under $20 is possible, and above that is prohibitive.  \n",
      "\n",
      "**Possible ADCs**\n",
      "\n",
      "*ADS8382*   Analog, 18bit, Onboard 4.096V reference, Serial interface that is configurable to 40MHz SPI, pseudo differential, bipolar.  Expensive (~$30).\n",
      "\n",
      "*MAX1144*   Maxim, 14bit, 150k Samples/s, SPI interface, $8 q10, 3.3V supply, 6V maximum ratings, Separate digital supply. Requires external reference of about 2.048V.  10mA current draw when in bipolar mode.  The MAX1142, MAX1143, and MAX1145 are similar, but not in stock, or much more expensive ($27).  The MAX1144 sucks 8mA which is marginal compared to some other ADCs which pull closer to 2mA.  CR2032 batteries are cheap.  \n",
      "\n",
      "*ADC23122-14*  Linear, 14bit, 500k Samples/s, SPI compatible interface, $16, 3.3V or 5V supply, Internal reference 2.048V or 4.096V.  Input voltage range (0, VREF), 3mA current draw.  \n",
      "\n",
      "\n",
      "\n",
      "\n",
      "\n",
      "\n"
     ]
    },
    {
     "cell_type": "markdown",
     "metadata": {},
     "source": [
      "Choose the AD8210 and the MAX1144, because these are both good enough, and don't create any system complexity with power supplies."
     ]
    },
    {
     "cell_type": "markdown",
     "metadata": {},
     "source": [
      "### Another thought\n",
      "\n",
      "There are lots of MHz, 16bit, expensive $30, serial or parallel, multichannel ADCs.  The bipolar requirement still limits the field significantly.  Probably the way to produce a fast, high resolution current system is to $50 for a multichannel high performance serial or parallel output ADC and put it on the marionette board.  Each channel would be a differential amplifier on a tiny board with a twisted pair, or fancier cabling system connecting to the marionette board.  Next rev.\n"
     ]
    },
    {
     "cell_type": "markdown",
     "metadata": {},
     "source": [
      "###  Noise Budget\n",
      "\n",
      "The AD8210 has a noise figure of:\n",
      "\n",
      "0.1Hz to 10Hz RTI = 7uV p-p\n",
      "Spectral Density 1kHz, RTI = 70nV/sqrt(Hz)\n",
      "\n",
      "For low frequency measurements, the noise figure is 7uV p-p.  For high frequency measurements (100 - 100000 Hz), the noise figure is 42uV.  This is noise at the output of the AD8210 after the gain of 20.  So presumably this is equivalent to an error 2uV at the input side of the opamp.  Given a 470mOhm resistor, this is equivalent to a current measurement error of 2uV/0.47ohm = 4uA, which is not significant.\n",
      "\n"
     ]
    },
    {
     "cell_type": "code",
     "collapsed": false,
     "input": [
      "140E-9*(100000**.5 - 10)  # this is the result of the integral.\n"
     ],
     "language": "python",
     "metadata": {},
     "outputs": [
      {
       "metadata": {},
       "output_type": "pyout",
       "prompt_number": 106,
       "text": [
        "4.287188724235732e-05"
       ]
      }
     ],
     "prompt_number": 106
    },
    {
     "cell_type": "code",
     "collapsed": false,
     "input": [
      "# this is some code to try to print the integral from 100 to 100000 of 70nV/sqrt(f)\n",
      "from sympy import symbols, Function\n",
      "import sympy.functions as sym\n",
      "from sympy import init_printing\n",
      "init_printing(use_latex='mathjax')\n",
      "\n"
     ],
     "language": "python",
     "metadata": {},
     "outputs": [
      {
       "ename": "ImportError",
       "evalue": "No module named sympy",
       "output_type": "pyerr",
       "traceback": [
        "\u001b[0;31m---------------------------------------------------------------------------\u001b[0m\n\u001b[0;31mImportError\u001b[0m                               Traceback (most recent call last)",
        "\u001b[0;32m<ipython-input-110-9ea3f5bb095c>\u001b[0m in \u001b[0;36m<module>\u001b[0;34m()\u001b[0m\n\u001b[1;32m      1\u001b[0m \u001b[0;31m# this is some code to try to print the integral from 100 to 100000 of 70nV/sqrt(f)\u001b[0m\u001b[0;34m\u001b[0m\u001b[0;34m\u001b[0m\u001b[0m\n\u001b[0;32m----> 2\u001b[0;31m \u001b[0;32mfrom\u001b[0m \u001b[0msympy\u001b[0m \u001b[0;32mimport\u001b[0m \u001b[0msymbols\u001b[0m\u001b[0;34m,\u001b[0m \u001b[0mFunction\u001b[0m\u001b[0;34m\u001b[0m\u001b[0m\n\u001b[0m\u001b[1;32m      3\u001b[0m \u001b[0;32mimport\u001b[0m \u001b[0msympy\u001b[0m\u001b[0;34m.\u001b[0m\u001b[0mfunctions\u001b[0m \u001b[0;32mas\u001b[0m \u001b[0msym\u001b[0m\u001b[0;34m\u001b[0m\u001b[0m\n\u001b[1;32m      4\u001b[0m \u001b[0;32mfrom\u001b[0m \u001b[0msympy\u001b[0m \u001b[0;32mimport\u001b[0m \u001b[0minit_printing\u001b[0m\u001b[0;34m\u001b[0m\u001b[0m\n\u001b[1;32m      5\u001b[0m \u001b[0minit_printing\u001b[0m\u001b[0;34m(\u001b[0m\u001b[0muse_latex\u001b[0m\u001b[0;34m=\u001b[0m\u001b[0;34m'mathjax'\u001b[0m\u001b[0;34m)\u001b[0m\u001b[0;34m\u001b[0m\u001b[0m\n",
        "\u001b[0;31mImportError\u001b[0m: No module named sympy"
       ]
      }
     ],
     "prompt_number": 110
    },
    {
     "cell_type": "code",
     "collapsed": false,
     "input": [
      "2E-6/.47\n"
     ],
     "language": "python",
     "metadata": {},
     "outputs": [
      {
       "metadata": {},
       "output_type": "pyout",
       "prompt_number": 109,
       "text": [
        "4.255319148936171e-06"
       ]
      }
     ],
     "prompt_number": 109
    },
    {
     "cell_type": "markdown",
     "metadata": {},
     "source": [
      "###  Drift over temperature\n",
      "\n",
      "Examine the drift over temperature of the opamp and the ADC:  "
     ]
    },
    {
     "cell_type": "code",
     "collapsed": false,
     "input": [
      "ad8210_offset_temp_drift = [(-40,35E-6),(-20,40E-6),(0,50E-6),(20,60E-6),(40,60E-6),(60,60E-6),(80,50E-6)]\n",
      "max1144_offset_temp_drift = [(-40,-.0022),(-20,-.002),(0,-.0017),(20,-.0015),(40,-.0013),(60,-.0009),(80,-.0006)]\n",
      "# offset error of the LTC231214 is given in LSB error.  Worst case, assume 4.096V reference.\n",
      "lsb_error = 4.096/2**14\n",
      "ltc231214_offset_temp_drift = [(-40,-.00018),(-20,-.00012),(0,-.0001),(20,-7.5E-5),(40,-5E-5),(60,-2.5E-5),(80,0)]\n",
      "ad8210_gain = 20\n",
      "\n",
      "\n",
      "\n"
     ],
     "language": "python",
     "metadata": {},
     "outputs": [],
     "prompt_number": 90
    },
    {
     "cell_type": "code",
     "collapsed": false,
     "input": [
      "nterms = len(ad8210_offset_temp_drift)"
     ],
     "language": "python",
     "metadata": {},
     "outputs": [],
     "prompt_number": 92
    },
    {
     "cell_type": "code",
     "collapsed": false,
     "input": [
      "temp_drift = [[None,None] for _ in xrange(nterms)]"
     ],
     "language": "python",
     "metadata": {},
     "outputs": [],
     "prompt_number": 93
    },
    {
     "cell_type": "code",
     "collapsed": false,
     "input": [
      "temp_array = [[None] for _ in xrange(len(ad8210_offset_temp_drift))]\n",
      "offset_array_ad8210 =  [[None] for _ in xrange(len(ad8210_offset_temp_drift))]\n",
      "offset_array_max1144 = [[None] for __ in xrange(len(max1144_offset_temp_drift))]\n",
      "offset_array_ltc231214 = [[None] for __ in xrange(len(ltc231214_offset_temp_drift))]\n",
      "for  idx in (range(nterms)):\n",
      "    temp_array[idx] = ad8210_offset_temp_drift[idx][0]\n",
      "    offset_array_ad8210[idx] =  ad8210_offset_temp_drift[idx][1]\n",
      "    offset_array_max1144[idx] = max1144_offset_temp_drift[idx][1]\n",
      "    offset_array_ltc231214[idx] = ltc231214_offset_temp_drift[idx][1]\n",
      "print temp_array\n",
      "print offset_array_ad8210\n",
      "print offset_array_max1144\n",
      "print offset_array_ltc231214"
     ],
     "language": "python",
     "metadata": {},
     "outputs": [
      {
       "output_type": "stream",
       "stream": "stdout",
       "text": [
        "[-40, -20, 0, 20, 40, 60, 80]\n",
        "[3.5e-05, 4e-05, 5e-05, 6e-05, 6e-05, 6e-05, 5e-05]\n",
        "[-0.0022, -0.002, -0.0017, -0.0015, -0.0013, -0.0009, -0.0006]\n",
        "[-0.00018, -0.00012, -0.0001, -7.5e-05, -5e-05, -2.5e-05, 0]\n"
       ]
      }
     ],
     "prompt_number": 94
    },
    {
     "cell_type": "markdown",
     "metadata": {},
     "source": [
      "The LTC231214 has the best temperature output offset profile"
     ]
    },
    {
     "cell_type": "code",
     "collapsed": false,
     "input": [
      "for i in range(nterms):\n",
      "    temp_drift[i] = (temp_array[i],offset_array_ad8210[i]*ad8210_gain + offset_array_ltc231214[i])\n",
      "print temp_drift\n"
     ],
     "language": "python",
     "metadata": {},
     "outputs": [
      {
       "output_type": "stream",
       "stream": "stdout",
       "text": [
        "[(-40, 0.0005199999999999998), (-20, 0.00068), (0, 0.0009), (20, 0.0011250000000000001), (40, 0.0011500000000000002), (60, 0.001175), (80, 0.001)]\n"
       ]
      }
     ],
     "prompt_number": 95
    },
    {
     "cell_type": "code",
     "collapsed": false,
     "input": [
      "import matplotlib.pyplot as plt\n",
      "plt.scatter(*zip(*temp_drift))\n",
      "plt.title('Combined Temperature Drift of Op-amp and ADC')\n",
      "plt.xlabel('Temperature in Celsius')\n",
      "plt.ylabel('ADC voltage output drift as function of temperature')\n",
      "plt.show()\n"
     ],
     "language": "python",
     "metadata": {},
     "outputs": [
      {
       "metadata": {},
       "output_type": "display_data",
       "png": "[encoded data removed]",
       "text": [
        "<matplotlib.figure.Figure at 0x7fd89d4415d0>"
       ]
      }
     ],
     "prompt_number": 96
    },
    {
     "cell_type": "markdown",
     "metadata": {},
     "source": [
      "The above 'Combined Temperature Drift of Op-amp and ADC' graph shows the output voltage drift, but what does this mean for errors in current measurement.  Let's assume that we are measuring current over a 470 mOhm resistor.  The gain on the op amp is 20. The signal chain is the AD8210 and the LTC2312-14. \n"
     ]
    },
    {
     "cell_type": "code",
     "collapsed": false,
     "input": [
      "# Need to include the temperature coefficient of the shunt resistor.  Assume "
     ],
     "language": "python",
     "metadata": {},
     "outputs": []
    },
    {
     "cell_type": "code",
     "collapsed": false,
     "input": [
      "r = .470\n",
      "i_drift_ma = [(t[0], t[1]*1000/r) for t in temp_drift]\n",
      "print i_drift_ma"
     ],
     "language": "python",
     "metadata": {},
     "outputs": [
      {
       "output_type": "stream",
       "stream": "stdout",
       "text": [
        "[(-40, 1.1063829787234039), (-20, 1.446808510638298), (0, 1.9148936170212767), (20, 2.3936170212765964), (40, 2.446808510638298), (60, 2.5000000000000004), (80, 2.127659574468085)]\n"
       ]
      }
     ],
     "prompt_number": 97
    },
    {
     "cell_type": "code",
     "collapsed": false,
     "input": [
      "plt.scatter(*zip(*i_drift_ma))\n",
      "plt.title('Current Measurement Error Over Temperature')\n",
      "plt.xlabel('Temperature in Celsius')\n",
      "plt.ylabel('Measured Current Error (mA) Over Temperature (R = .470 ohm)')\n",
      "plt.show()"
     ],
     "language": "python",
     "metadata": {},
     "outputs": [
      {
       "metadata": {},
       "output_type": "display_data",
       "png": "[encoded data removed]",
       "text": [
        "<matplotlib.figure.Figure at 0x7fd89d2570d0>"
       ]
      }
     ],
     "prompt_number": 98
    },
    {
     "cell_type": "markdown",
     "metadata": {},
     "source": [
      "This is a significant absolute error.  Fortunately across the 20 to 60 degree celsius range, the error is fairly flat.  This can be calibrated out with appropriate circuitry.\n"
     ]
    },
    {
     "cell_type": "markdown",
     "metadata": {},
     "source": [
      "Add the effect of temperature coefficient of resistance on the sense resistor.  Consider the following resistors:\n",
      "Ohmite, MCS1632R050FER, MCS1632R050FERCT-ND, 50mOhm, 1206, Metal Element, +-50ppm/C, $.40 q25\n",
      "Susumu, KRL1220E-M-R056-F-T5, 408-1553-1-ND, 50mOhm, 0805, Metal Foil, +-50ppm/C, $.34 q25\n",
      "\n",
      "For the 0402 resistors, ppm/C performance drops\n",
      "Samsung, RUT1005FR100CS, 408-1553-1-ND, 100mOhm, 0402, Thick Film, +-150ppm/C, $.12 q25\n",
      "\n",
      "Over a 40 degree temperature swing, the 150ppm resistor would change value by 0.6%.  (40 degrees * 150E-6 = 0.6%).  How much will the small package resistor heat up do to power dissipation?  From vishay.com/docs/28844/tmismra.pdf, the internal thermal resistance of an 0402 package is about 90 K/W.  So if conducting 100mA in an 0402:\n",
      " "
     ]
    },
    {
     "cell_type": "code",
     "collapsed": false,
     "input": [
      "i = 0.1     # current sensed\n",
      "r = 0.22    # resistance of shunt resistor\n",
      "itr = 90    # internal thermal resistance of 90 degrees celsius per watt\n",
      "power = i**2*r  #  \n",
      "delta_t = itr*power\n",
      "print 'The change in temperature for a 220mOhm resistor (0402) with 100mA current will be %f degrees celsius, which is not much.' %delta_t\n"
     ],
     "language": "python",
     "metadata": {},
     "outputs": [
      {
       "output_type": "stream",
       "stream": "stdout",
       "text": [
        "The change in temperature for a 220mOhm resistor (0402) with 100mA current will be 0.198000 degrees celsius, which is not much.\n"
       ]
      }
     ],
     "prompt_number": 113
    },
    {
     "cell_type": "markdown",
     "metadata": {},
     "source": [
      "This suggests that resistor heating for sub ohm resistors and current less than 500mA will not be a significant source of error.  "
     ]
    }
   ],
   "metadata": {}
  }
 ]
}
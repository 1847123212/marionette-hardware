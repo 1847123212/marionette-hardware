{
 "cells": [
  {
   "cell_type": "code",
   "execution_count": null,
   "metadata": {
    "collapsed": true
   },
   "outputs": [],
   "source": []
  },
  {
   "cell_type": "markdown",
   "metadata": {
    "collapsed": false
   },
   "source": []
  },
  {
   "cell_type": "markdown",
   "metadata": {},
   "source": [
    "start this python session with:\n",
    "\n",
    "ipython notebook --pylab inline current_measurement_requirements.ipynb\n",
    "\n",
    "The 'inline' prints graphs inline.\n"
   ]
  },
  {
   "cell_type": "code",
   "execution_count": 21,
   "metadata": {
    "collapsed": false
   },
   "outputs": [],
   "source": [
    "from IPython.display import Image\n",
    "import sympy\n",
    "import math\n",
    "\n"
   ]
  },
  {
   "cell_type": "markdown",
   "metadata": {},
   "source": [
    "###  Current Measurement Board Requirements \n",
    "\n",
    "* Must have a gain of 60\n",
    "* Must have a GBW of 100kHz * 60 = 6MHz\n",
    "* Must measure current range of (+-500uA, +-500mA)\n",
    "* Must have a maximum differential voltage of >= 25mV\n",
    "* Must have single ended analog line out\n",
    "* Must have low current ground reference\n",
    "* Must have two oscilloscope channels available: instrumentation_amp_out, Vref, and earth GND\n",
    "* Must be possible to run on two CR2032 coin cells or on power from external power\n",
    "* Must be able to short instrumentation amp terminals to check offset voltage\n",
    "* Must have universal pad for different shunt resistors on end of I.A.\n",
    "* Must have an onboard ADC.\n",
    "* Must have SPI Interface of 25Mbits/s for the ADC.\n",
    "* Must be able to sample the outputs of the differential op amp with an oscilloscope\n",
    "* Must have >= 16bit resolution\n",
    "* Must have disable jumper on SPI ADC\n",
    "* Must be able to have ADC sample from instrumentation amp output or reference voltage\n",
    "* Must have EN line on ADC\n",
    "* Should have 0603 pads for filtering on differential end of I.A.\n",
    "* Must have signal via + GND clip soldermask\n",
    "* Should size shunt vias to accept 0.1\" terminal block\n",
    "* Should have two vias in each of three scope probes (this is to land the pointy scope probe)\n",
    "* Should have 1.1mm diameter via for scope probe\n",
    "\n",
    "It is convenient to define a maximum shunt voltage across the two inputs of the current sense amp.  Choose a shunt voltage of 50mV.  Given a 12 bit bipolar input range, this equates to about 50mV/2048 =~ 25uV minimum resolution  "
   ]
  },
  {
   "cell_type": "code",
   "execution_count": 13,
   "metadata": {
    "collapsed": false
   },
   "outputs": [
    {
     "data": {
      "text/plain": [
       "2.44140625e-05"
      ]
     },
     "execution_count": 13,
     "metadata": {},
     "output_type": "execute_result"
    }
   ],
   "source": [
    "shunt_voltage_max = .05 # 50mV max shunt voltage\n",
    "sig_min = shunt_voltage_max/(2**11)\n",
    "sig_min"
   ]
  },
  {
   "cell_type": "raw",
   "metadata": {},
   "source": [
    "In order to meet the requirements, the opamp and ADC must pass the following requirements:\n",
    "\n",
    "noise\n",
    "offset error (thermal or otherwise)\n",
    "adc bit resolution\n",
    "bipolar\n",
    "common mode input range (not clipped)\n",
    "input impedance\n",
    "output impedance sufficient to drive circuits\n",
    "low pass filtering\n",
    "gain\n",
    "bw\n",
    "Power Supply\n",
    "\n",
    "\n",
    "\n",
    "\n"
   ]
  },
  {
   "cell_type": "raw",
   "metadata": {},
   "source": [
    "AD8210 Instrumentation Amp\n",
    "\n",
    "Noise\n",
    "\n",
    "The AD8210 has a noise figure of:\n",
    "\n",
    "0.1Hz to 10Hz RTI = 7uV p-p\n",
    "Spectral Density 1kHz, RTI = 70nV/sqrt(Hz)\n",
    "\n",
    "For low frequency measurements, the noise figure is 7uV p-p.  For high frequency measurements (100 - 100000 Hz), the noise figure is 42uV.  The max shunt voltage is This is noise at the output of the AD8210 after the gain of 20.  So presumably this is equivalent to an error 2uV at the input side of the opamp.  Given a 470mOhm resistor, this is equivalent to a current measurement error of 2uV/0.47ohm = 4uA, which is not significant.\n"
   ]
  },
  {
   "cell_type": "code",
   "execution_count": 14,
   "metadata": {
    "collapsed": false
   },
   "outputs": [
    {
     "name": "stdout",
     "output_type": "stream",
     "text": [
      "[-40, -20, 0, 20, 40, 60, 80]\n",
      "[3.5e-05, 4e-05, 5e-05, 6e-05, 6e-05, 6e-05, 5e-05]\n",
      "[-0.0022, -0.002, -0.0017, -0.0015, -0.0013, -0.0009, -0.0006]\n",
      "[-0.00018, -0.00012, -0.0001, -7.5e-05, -5e-05, -2.5e-05, 0]\n",
      "[(-40, 0.0006999999999999999), (-20, 0.0008), (0, 0.001), (20, 0.0012000000000000001), (40, 0.0012000000000000001), (60, 0.0012000000000000001), (80, 0.001)]\n"
     ]
    }
   ],
   "source": [
    "#  Temperature Offset\n",
    "\n",
    "ad8210_offset_temp_drift = [(-40,35E-6),(-20,40E-6),(0,50E-6),(20,60E-6),(40,60E-6),(60,60E-6),(80,50E-6)]\n",
    "max1144_offset_temp_drift = [(-40,-.0022),(-20,-.002),(0,-.0017),(20,-.0015),(40,-.0013),(60,-.0009),(80,-.0006)]\n",
    "# offset error of the LTC231214 is given in LSB error.  Worst case, assume 4.096V reference.\n",
    "lsb_error = 4.096/2**14\n",
    "ltc231214_offset_temp_drift = [(-40,-.00018),(-20,-.00012),(0,-.0001),(20,-7.5E-5),(40,-5E-5),(60,-2.5E-5),(80,0)]\n",
    "ad8210_gain = 20\n",
    "nterms = len(ad8210_offset_temp_drift)\n",
    "temp_drift = [[None,None] for _ in xrange(nterms)]\n",
    "temp_array = [[None] for _ in xrange(len(ad8210_offset_temp_drift))]\n",
    "offset_array_ad8210 =  [[None] for _ in xrange(len(ad8210_offset_temp_drift))]\n",
    "offset_array_max1144 = [[None] for __ in xrange(len(max1144_offset_temp_drift))]\n",
    "offset_array_ltc231214 = [[None] for __ in xrange(len(ltc231214_offset_temp_drift))]\n",
    "for  idx in (range(nterms)):\n",
    "    temp_array[idx] = ad8210_offset_temp_drift[idx][0]\n",
    "    offset_array_ad8210[idx] =  ad8210_offset_temp_drift[idx][1]\n",
    "    offset_array_max1144[idx] = max1144_offset_temp_drift[idx][1]\n",
    "    offset_array_ltc231214[idx] = ltc231214_offset_temp_drift[idx][1]\n",
    "print temp_array\n",
    "print offset_array_ad8210\n",
    "print offset_array_max1144\n",
    "print offset_array_ltc231214\n",
    "for i in range(nterms):\n",
    "    temp_drift[i] = (temp_array[i],offset_array_ad8210[i]*ad8210_gain)\n",
    "print temp_drift\n",
    "\n",
    "\n",
    "import matplotlib.pyplot as plt\n",
    "plt.scatter(*zip(*temp_drift))\n",
    "plt.title('Combined Temperature Drift of Op-amp')\n",
    "plt.xlabel('Temperature in Celsius')\n",
    "plt.ylabel('ADC voltage output drift as function of temperature')\n",
    "plt.show()\n"
   ]
  },
  {
   "cell_type": "code",
   "execution_count": 15,
   "metadata": {
    "collapsed": false
   },
   "outputs": [
    {
     "name": "stdout",
     "output_type": "stream",
     "text": [
      "[(-40, 1.4893617021276593), (-20, 1.7021276595744683), (0, 2.127659574468085), (20, 2.5531914893617027), (40, 2.5531914893617027), (60, 2.5531914893617027), (80, 2.127659574468085)]\n"
     ]
    }
   ],
   "source": [
    "r = .470\n",
    "i_drift_ma = [(t[0], t[1]*1000/r) for t in temp_drift]\n",
    "print i_drift_ma\n",
    "plt.scatter(*zip(*i_drift_ma))\n",
    "plt.title('Current Measurement Error Over Temperature')\n",
    "plt.xlabel('Temperature in Celsius')\n",
    "plt.ylabel('Measured Current Error (mA) Over Temperature (R = .470 ohm)')\n",
    "plt.show()"
   ]
  },
  {
   "cell_type": "raw",
   "metadata": {},
   "source": [
    "This shows that the current measurement error (with the AD8210) is several milliamps, but is relatively constant over the 20 to 60 degree celsius that is normal operating range.  If we care about the offset, we can calibrate for it.  "
   ]
  },
  {
   "cell_type": "raw",
   "metadata": {},
   "source": [
    "The ADP8210 is bipolar.  The output voltage level (offset) is set with two reference pins.  "
   ]
  },
  {
   "cell_type": "raw",
   "metadata": {},
   "source": [
    "ADP8210 Input Voltage Characteristics\n",
    "\n",
    "The ADP8210 has a differential impedance of 2kOhm, a common mode input impedance of 1.5kOhm for Vcommon mode less than 5V.  For Vcommon mode greater than 5V, the common mode input impedance is mega ohms.  I don't understand this transition.  The 1.5kOhm common mode input impedance is lower than I'd like.  For a 3V supply, this would be 2mA lost into the input terminals which is marginal performance for high efficiency embedded systems.  \n",
    "\n",
    "The common mode input range is (-2V, +65V).\n",
    "\n",
    "The differential input range is 250mV.  For bipolar operation, this means +-125mV.  This means that the shunt resistor chosen must be sized appropriately not to run out of measurement range.  A 220mOhm resistor can measure 568mA which is adequate.  \n",
    "\n"
   ]
  },
  {
   "cell_type": "raw",
   "metadata": {},
   "source": [
    "ADP8210 Output Impedance Characteristics\n",
    "\n",
    "The output voltage range is (0.05V, 4.9V)\n",
    "\n",
    "The output impedance is 2ohm, while the output drive capability is 5mA.\n"
   ]
  },
  {
   "cell_type": "raw",
   "metadata": {},
   "source": [
    "Gain and Bandwidth of the ADP8210\n",
    "\n",
    "For our immediate interest, we need at least 100kHz bandwidth to capture the high frequency current draws on a flash memory chip.  500kHz would give us better resolution.  The graph below shows that the ADP8210 can give 1MHz at over 10dB gain. "
   ]
  },
  {
   "cell_type": "code",
   "execution_count": 16,
   "metadata": {
    "collapsed": false
   },
   "outputs": [
    {
     "data": {
      "image/png": "[encoded data removed]",
      "text/plain": [
       "<IPython.core.display.Image object>"
      ]
     },
     "execution_count": 16,
     "metadata": {},
     "output_type": "execute_result"
    }
   ],
   "source": [
    "#  Bandwidth of the ADP8210\n",
    "#  The Bandwidth is about 1MHz as illustrated in graph below\n",
    "\n",
    "Image(filename='pictures/adp8210_smallsignal_gain.png')"
   ]
  },
  {
   "cell_type": "raw",
   "metadata": {},
   "source": [
    "ADP8210 Power Supply Requirements\n",
    "\n",
    "The power supply to the ADP8210 is specced as (4.5V, 5.0V, 5.5V).  \n",
    "The power supply absolute max range is 12V.\n",
    "The PSRR is 80dB\n",
    "\n"
   ]
  },
  {
   "cell_type": "raw",
   "metadata": {},
   "source": [
    "The ADP8210 is easy to use, robust, cheap, with enough bandwidth, bipolar, no special power supply requirements (runs on 5V), and acceptable input offset impedance.    NO No NO, the low input impedance is a deal killer.  Look more."
   ]
  },
  {
   "cell_type": "raw",
   "metadata": {},
   "source": [
    "Try the AD8418 Bi-Directional, Zero Drift, Current Sense Amplifier\n",
    "or consider the AD8207\n",
    "\n",
    "noise\n",
    "offset error (thermal or otherwise)\n",
    "adc bit resolution\n",
    "bipolar\n",
    "common mode input range (not clipped)\n",
    "input impedance\n",
    "output impedance sufficient to drive circuits\n",
    "low pass filtering\n",
    "gain\n",
    "bw\n",
    "Power Supply\n",
    "\n"
   ]
  },
  {
   "cell_type": "code",
   "execution_count": null,
   "metadata": {
    "collapsed": false
   },
   "outputs": [],
   "source": []
  },
  {
   "cell_type": "code",
   "execution_count": 17,
   "metadata": {
    "collapsed": false
   },
   "outputs": [
    {
     "name": "stdout",
     "output_type": "stream",
     "text": [
      "2.2e-10\n",
      "noise_hf = 0.0000000002 \n",
      "\n"
     ]
    }
   ],
   "source": [
    "#  Noise\n",
    "#  0.1Hz to 10Hz, 2.3uV p-p\n",
    "#  spectral noise 110 nV/sqrt(Hz)\n",
    "\n",
    "# Consider the BW of the opamp (250kHz).\n",
    "noise_hf = 110E-9/((250E3)**0.5)\n",
    "print noise_hf\n",
    "type(noise_hf)\n",
    "print \"noise_hf = %06.10f \\n\" %noise_hf"
   ]
  },
  {
   "cell_type": "markdown",
   "metadata": {},
   "source": [
    "###  Offset Error AD8418\n",
    "\n",
    "Maximum +-400uV drift over temperature.  This is kind of high considering that our minimum resolved signal (sig_min) is 25uV.  Also there is not a graph of the temperature drift.  The offset drift over temperature is not bad (less than 5uV over our region of interest).\n",
    "\n",
    "![Offset Drift of the AD8418 is well below our 25uV minimum signal](./pictures/AD8418_offset_drift_over_temp.png)\n",
    "\n",
    "\n",
    "The distribution of different AD8418 chips offset over temperature is centered at -35uV, with a narrow distribution that doesn't go beyond +-100uV.  \n",
    "\n",
    "![](./pictures/AD8418_offset_voltage_distribution.png)\n",
    "\n",
    "Given that the output is relatively stable over temperature, it makes sense to tune out our offset voltage in the circuit (or just ignore it and hope for the best which will only lose us a bit or two of resolution probably).\n",
    "\n",
    "\n"
   ]
  },
  {
   "cell_type": "markdown",
   "metadata": {},
   "source": [
    "###  Bipolar AD8418\n",
    "\n",
    "The AD8418 has a bipolar input range.  "
   ]
  },
  {
   "cell_type": "markdown",
   "metadata": {},
   "source": [
    "###  Common Mode Input Range AD8418\n",
    "\n",
    "The AD8418 has a -2V, +70V common mode input range."
   ]
  },
  {
   "cell_type": "markdown",
   "metadata": {},
   "source": [
    "###  Input Impedance AD8418\n",
    "\n",
    "The datasheet gives an input bias current of 130uA.  Given that we are trying to detect currents down to 500uA, this is acceptable (though not great).  "
   ]
  },
  {
   "cell_type": "markdown",
   "metadata": {},
   "source": [
    "### Output Impedance AD8418\n",
    "\n",
    "The output impedance of the AD8418 (with a load resistance of 15kOhms) is 2 ohms.  The range is (.015V, Vs-.020V) which is nearly rail to rail.  The AD8418 will feed a high impedance active low pass filter, or perhaps an oscilloscope probe, or a relatively high impedance ADC front end, so the performance is probably adequate."
   ]
  },
  {
   "cell_type": "markdown",
   "metadata": {},
   "source": [
    "### Bandwidth AD8418\n",
    "\n",
    "The AD8418 is not high bandwidth.  The performance starts to fall off above 300kHz.  The gain is still useful up to 1MHz.  This is adequate performance for measuring sub 100mA current consumption through multi-microfarad bypass networks.  For instance, a 50mV voltage drop caused by a 100mA current on a 10uF bypassed signal will take 5us (i.e. a 200kHz event).  So we'd really capture all of our current consumption events with a 2MHz sampling frequency (10 x the 200kHz resolves the waveform pretty well).  Unfortunately the gain on the current sense monitor is unit at about 1.5MHz.  So... good enough.\n",
    "\n",
    "![](./pictures/AD8418_small_signal_bw.png)\n",
    "\n"
   ]
  },
  {
   "cell_type": "code",
   "execution_count": 18,
   "metadata": {
    "collapsed": false
   },
   "outputs": [
    {
     "data": {
      "text/plain": [
       "5e-07"
      ]
     },
     "execution_count": 18,
     "metadata": {},
     "output_type": "execute_result"
    }
   ],
   "source": [
    "0.05*1E-6/0.1\n"
   ]
  },
  {
   "cell_type": "markdown",
   "metadata": {},
   "source": [
    "###  Power Supply AD8418\n",
    "\n",
    "The operating voltage of the AD8418 is (2.7V, 5.5V).  \n",
    "\n",
    "The absolute max values for the power pins are 6V which is kind of weany, but good enough."
   ]
  },
  {
   "cell_type": "markdown",
   "metadata": {},
   "source": [
    "##  Selection of low pass op amp\n",
    "\n",
    "Possible candidates:\n",
    "\n",
    "AD8628     Analog Devices, Chopper stabilized, auto zero.  very low offset voltages.  Very low noise.  Power: (2.7V, 5V).  Rail to rail.  \n",
    "\n",
    "LTC6255     Linear Technologies, Comes in 1,2,4 pack, low offset voltages ( \n",
    "\n",
    ".... wait a second, we don't need to worry about offset voltage or noise particularly, because with a gain of 20 from the front end current monitor, and a shunt voltage of between 20mV and 50mV, and a reference voltage on the ADC of 3.0V/2, then we only need an additional gain of 1.5 or 4. \n",
    "\n",
    "Here's a good one:\n",
    "\n",
    "ADA4805   Analog Devices, rail to rail, low voltage (4.5V, 10V), low offset voltage (125uV max), Low noise (8Hz 1/f, 6nV/sqrt(Hz)).  The input common mode voltage range is:  (VS − 0.1 V to +VS − 1 V).    GBW = 100MHz+.  This device is a little bit expensive at USD2.53 q25 for the SOT23 single opamp package.  Also available in SC70-6 for USD3.17.  This is a high performance low power device that is the chip to beat.  \n",
    "\n",
    "FAN4852    Fairchild/OnSemi, not quite rail to rail (output swing to within 10mV of either rail), low voltage (2.5V, 5V),  input common mode voltage range is: (-0.2V, 2.1V), low offset voltage (1.2mV worst case over temp), GBW = 9MHz, input noise 11nV/sqrt(Hz), USD.81 q25.  Available in 8MSOP.  The noise specifications for this part are mostly missing.  This is probably a good enough op amp.\n",
    "\n",
    "\n",
    "\n"
   ]
  },
  {
   "cell_type": "markdown",
   "metadata": {},
   "source": [
    "###  opamp requirements in relation to the LT2312\n",
    "\n",
    "The LT2312 datasheet lists two requirements for the input amplifier to the ADC (pg 12 of datasheet):\n",
    "\n",
    "Maximum Output Impedance:  The amplifier must have an output impedance < 50 ohms at the operational bandwidth.\n",
    "  The FAN4852 has an output impedance of 6 ohms at 6MHz.  \n",
    "\n",
    "Minimum Bandwidth:  The closed loop bandwidth must be > 50MHz to ensure adequate settling time for 12 bit signals to allow full sampling throughput.  \n",
    "  The FAN4852 has a 9MHz bandwidth.  \n"
   ]
  },
  {
   "cell_type": "code",
   "execution_count": 19,
   "metadata": {
    "collapsed": false
   },
   "outputs": [
    {
     "ename": "NameError",
     "evalue": "name 'math' is not defined",
     "output_type": "error",
     "traceback": [
      "\u001b[0;31m---------------------------------------------------------------------------\u001b[0m",
      "\u001b[0;31mNameError\u001b[0m                                 Traceback (most recent call last)",
      "\u001b[0;32m<ipython-input-19-34cc2f1255b8>\u001b[0m in \u001b[0;36m<module>\u001b[0;34m()\u001b[0m\n\u001b[1;32m      1\u001b[0m \u001b[0;31m#  Calculation of ADC bandwidth\u001b[0m\u001b[0;34m\u001b[0m\u001b[0;34m\u001b[0m\u001b[0m\n\u001b[1;32m      2\u001b[0m \u001b[0;34m\u001b[0m\u001b[0m\n\u001b[0;32m----> 3\u001b[0;31m \u001b[0mCadc\u001b[0m \u001b[0;34m=\u001b[0m \u001b[0;34m-\u001b[0m\u001b[0;36m2E-6\u001b[0m\u001b[0;34m/\u001b[0m\u001b[0;34m(\u001b[0m\u001b[0mmath\u001b[0m\u001b[0;34m.\u001b[0m\u001b[0mlog\u001b[0m\u001b[0;34m(\u001b[0m\u001b[0;36m.99975\u001b[0m\u001b[0;34m)\u001b[0m\u001b[0;34m*\u001b[0m\u001b[0;36m50\u001b[0m\u001b[0;34m)\u001b[0m\u001b[0;34m\u001b[0m\u001b[0m\n\u001b[0m\u001b[1;32m      4\u001b[0m \u001b[0;32mprint\u001b[0m \u001b[0mCadc\u001b[0m\u001b[0;34m\u001b[0m\u001b[0m\n",
      "\u001b[0;31mNameError\u001b[0m: name 'math' is not defined"
     ]
    }
   ],
   "source": [
    "#  Calculation of ADC bandwidth\n",
    "\n",
    "Cadc = -2E-6/(math.log(.99975)*50)\n",
    "print Cadc"
   ]
  },
  {
   "cell_type": "code",
   "execution_count": null,
   "metadata": {
    "collapsed": false
   },
   "outputs": [],
   "source": [
    "#  Tim's calculation of the bandwidth requirement\n",
    "#  The Tacq acquisition time of the ADC is 600ns, and the conversion time is 1400ns.  \n",
    "#  Therefore the signal has to fall to 12 bits resolution within 600ns\n",
    "#  Consider a falling signal\n",
    "#  tadc = 600E-9\n",
    "#  1./2**12 = math.exp(-tadc/tau)  \n",
    "#  math.exp(-n) = 1./(2**12)        #  The signal falls from unity to 1/4096 in n time constants\n",
    "#  n = 8.3\n",
    "#  frequency = 1./600ns  = 1.66 MHz\n",
    "#  frequency * n = 13.78MHz\n",
    "#  This suggests that a 14MHz opamp driving the input of the ADC would be adequate to get the full 500ksps sampling\n",
    "#  The bandwidth of the FAN4852 is 9MHz (with a 5V supply) which will probably be adequate given that we really care about \n",
    "#  a 100ksps.  The LT2312-12 recommends some >100MHz opamps such as the LT6200, but these cost USD 3, and are single packages\n",
    "#  while the FAN4852 is only USD .35 for a dual package.  Therefore, proceed with the FAN4852 as it is probably barely good enough\n",
    "#  not to notice any bandwidth limitations.\n"
   ]
  },
  {
   "cell_type": "markdown",
   "metadata": {},
   "source": [
    "##  Choosing the Filter Topology and Type\n",
    "\n",
    "Use a multiple feedback low pass filter.  Use two stages (the FAN4582 opamp is a dual package which makes this convenient).  Use a Bessel type filter so that the phase delay is constant.  \n",
    "![](./pictures/multiple_fb_lp.png)\n",
    "\n",
    "Use the reference documentation in: \n",
    "\n",
    "http://www.analog.com/media/en/training-seminars/design-handbooks/Basic-Linear-Design/Chapter8.pdf?doc=ADA4661-2.pdf\n",
    "\n",
    "![](./pictures/bessel_chart.png)\n",
    "\n"
   ]
  },
  {
   "cell_type": "code",
   "execution_count": 22,
   "metadata": {
    "collapsed": false
   },
   "outputs": [
    {
     "name": "stdout",
     "output_type": "stream",
     "text": [
      "C5 =  0.000000000220\n",
      "C2 =  0.000000000767\n",
      "R1 =  443.942447735762\n",
      "R3 =  305.210432818337\n",
      "R4 =  976.673385018677\n",
      "C50 =  0.000000000220\n",
      "C20 =  0.000000001827\n",
      "R10 =  256.543928531353\n",
      "R30 =  176.373950865305\n",
      "R40 =  564.396642768976\n"
     ]
    }
   ],
   "source": [
    "# script to generate passive values for low pass filter\n",
    "# Bessel Filter Values for 2nd order filter, page 8.48 from reference document:\n",
    "Fc = 500000   #  Cutoff frequency in Hz\n",
    "a1 = 1.916    #  alpha value for first stage of 4th order low pass bessel filter\n",
    "a2 = 1.2414   #  alpha value for second stage of 4th order low pass bessel filter\n",
    "F1 = 1.4192   #  Frequency cutoff normalization value for first stage of low pass bessel filter\n",
    "F2 = 1.5912   #  Frequency cutoff normalization value for second stage of low pass bessel filter\n",
    "\"\"\"\n",
    "The shunt voltage is 20mV max,\n",
    "The reference voltage is 2.048V.\n",
    "The gain of the AD8418 is 20.\n",
    "20mV * 20 V/V = 400mV\n",
    "The reference voltage of the LTC2312 is 4.096V which split in half is 2.048V.\n",
    "Therefore need gain of 2.048/400mV = 5.12\n",
    "In two stages:  5.12**.5 = 2.26 , so round to 2.2\n",
    "\n",
    "\"\"\"\n",
    "\n",
    "H1 = 2.2        #  first stage gain. \n",
    "H2 = 2.2        #  second stage gain\n",
    "C5 = 220E-12     #  Choose C5 value\n",
    "Fc1 = Fc * F1    #  Cutoff frequency in Hz\n",
    "k1 = 2*math.pi*Fc1*C5\n",
    "C2 = 4*C5*(H1+1)/a1**2\n",
    "R1 = a1/(2*H1*k1)\n",
    "R3 = a1/(2*k1*(H1+1))\n",
    "R4 = a1/(2*k1)\n",
    "\n",
    "#  For the second stage of the filter, add a zero to the names of the components, i.e. R4 -> R40\n",
    "\n",
    "C50 = C5    #  C50 set from earlier C5 choice\n",
    "Fc2 = Fc * F2    #  Cutoff frequency in Hz\n",
    "k2 = 2*math.pi*Fc2*C50\n",
    "C20 = 4*C50*(H2+1)/a2**2\n",
    "R10 = a2/(2*H2*k2)\n",
    "R30 = a2/(2*k2*(H2+1))\n",
    "R40 = a2/(2*k2)\n",
    "\n",
    "print \"C5 =  \" '{0:.12f}'.format(C5)\n",
    "print \"C2 =  \" '{0:.12f}'.format(C2)\n",
    "print \"R1 =  \" '{0:.12f}'.format(R1)\n",
    "print \"R3 =  \" '{0:.12f}'.format(R3)\n",
    "print \"R4 =  \" '{0:.12f}'.format(R4)\n",
    "print \"C50 =  \" '{0:.12f}'.format(C50)\n",
    "print \"C20 =  \" '{0:.12f}'.format(C20)\n",
    "print \"R10 =  \" '{0:.12f}'.format(R10)\n",
    "print \"R30 =  \" '{0:.12f}'.format(R30)\n",
    "print \"R40 =  \" '{0:.12f}'.format(R40)\n",
    "\n"
   ]
  },
  {
   "cell_type": "code",
   "execution_count": null,
   "metadata": {
    "collapsed": false
   },
   "outputs": [],
   "source": [
    "math.log(2.714)\n"
   ]
  },
  {
   "cell_type": "code",
   "execution_count": null,
   "metadata": {
    "collapsed": false
   },
   "outputs": [],
   "source": []
  },
  {
   "cell_type": "markdown",
   "metadata": {},
   "source": [
    "##  Choosing the cutoff frequency of the filter.\n",
    "\n",
    "The stm32F4 has a 12bit ADCs that can sample up to 32MHz.  (See page 6.3.21 of DM00071990_STM32F42x_Datasheet_Rev_5_Feb_2015.pdf).  The AD8418 has a bandwidth of a little over 1MHz.  \n",
    "The LTC2312 ADC has a sample rate of 500ksps.  \n",
    "\n",
    "Given the requirement that the device have a gain band width of 6MHz, with 60 gain at 100kHz.  It makes sense to do a cutoff at 500kHz.  "
   ]
  },
  {
   "cell_type": "markdown",
   "metadata": {},
   "source": [
    "##  Choosing the gain of the bessel filter\n",
    "\n",
    "The maximum voltage across the shunt resistor is 50mV.  The gain from the AD8418 is 20V/V (though figure 6 from the datasheet which shows the small signal gain appears as 27dB with a 200kHz cutoff).  The input range of the ADC either on board (LTC2312) or offboard (STM32) will be 3.3V (round down to 3V). This means that we would only need a gain of 3 from the Bessel active filter.  All things the same,  Let's scale the voltage across the shunt resistor to 20mV which will mean we need a gain of 7.5 from the bessel filter. "
   ]
  }
 ],
 "metadata": {
  "kernelspec": {
   "display_name": "Python 2",
   "language": "python",
   "name": "python2"
  },
  "language_info": {
   "codemirror_mode": {
    "name": "ipython",
    "version": 2
   },
   "file_extension": ".py",
   "mimetype": "text/x-python",
   "name": "python",
   "nbconvert_exporter": "python",
   "pygments_lexer": "ipython2",
   "version": "2.7.9"
  }
 },
 "nbformat": 4,
 "nbformat_minor": 0
}

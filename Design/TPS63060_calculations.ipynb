{
 "metadata": {
  "name": "",
  "signature": "sha256:91c6549f41f2847d7e937def28c4978c7e446635cf20f09c76f571072a3cab9d"
 },
 "nbformat": 3,
 "nbformat_minor": 0,
 "worksheets": [
  {
   "cells": [
    {
     "cell_type": "markdown",
     "metadata": {},
     "source": [
      "##  TPS63060 Buck/Boost converter circuit calculations\n",
      "\n",
      "The TPS63060 from TI features:\n",
      "* Vin = (2.5V, 12V), absolute max for EN, FB, PS/SYNC, VIN, VOUT, FB, PG, L2: 17V; VAUX = 7.5V\n",
      "* Max switch current: Isw = 2A, which means for Vout = 5V, then Imax_buck = 2A, Imax_boost = 1A\n",
      "* 2.4MHz fsw\n",
      "* other goodies like PowerGood, thermal shutdown, buck boost smooth overlap, optional power save PWM, etc.\n",
      "\n",
      "The basic requirements of the \"front end\" 5V supply on the marionette are:\n",
      "*  Must have Robust protection from ESD, and voltage transients\n",
      "*  Must power the board from USB supplied 5V, 500mA\n",
      "*  Must power the board from an input voltage range of (3.3V,12V)\n",
      "*  Must not malfunction during current limited start up\n",
      "*  Must not fail due to load transients (from SD card) and USB brown outs (from marginal, current limited host computer supplies).\n",
      "*  Should have less than 50mV output ripple\n",
      "*  Should have less 100mV response to 500mA load transient\n",
      "\n",
      "The TPS63060 meets these requirements.\n",
      "\n",
      "### Design guidelines\n",
      "\n",
      "Taking the easy route: copy, paste and edit the \"Section 9.2\" 5V buck boost supply from the datasheet.  \n",
      "\n",
      "### Inductor Selection\n",
      "\n",
      "Choose the SRN3015-1R0 1.0uH, +-30%, because it's small cheap and adequate current (2.35A max).  The max current calculations are:\n",
      "\n",
      "\n",
      "\n"
     ]
    },
    {
     "cell_type": "markdown",
     "metadata": {},
     "source": [
      "Duty cycle calculations <br/>\n",
      "<br/>\n",
      "\n",
      "$D_{boost} = \\frac{Vout - Vin}{Vout}$ <br/>\n",
      "$D_{boost} = \\frac{5V - 3.3V}{5V}$ <br/>\n",
      "$D_{boost} = .34$ <br/>\n",
      "<br/>\n",
      "$D_{buck} = \\frac{Vout}{Vin}$ <br/>\n",
      "$D_{buck} = \\frac{5V}{12V}$ <br/>\n",
      "$D_{buck} = .416$<br/>\n",
      "<br/>\n",
      "<br/>\n",
      "Max Switching Current Calculation. <br/>\n",
      "Highest switching current occurs during boost mode.<br/>\n",
      "<br/>\n",
      "$Iout_{boost} = \\eta \\cdot Isw_{max} \\cdot (1 - D_{boost})$ <br/>\n",
      "$Iout_{boost} = 0.8 \\cdot 2A \\cdot (1 - .34)$ <br/>\n",
      "$Iout_{boost} = 1.05A$ \n",
      "\n",
      "where $\\eta = 0.8 $ is the estimated converter efficiency (guess), $Isw_{max} = 2A$ from the TPS63060 datasheet \n",
      "\n",
      "The SRN3015-1R0 inductor is rated for 2.35A, while the peak current in the SMPS is 2A.  The load from the board should be approximately 80mA in idle mode, and maybe 250mA if everything is humming, while the TPS63060 can supply up to 1A.  The system performance will then be limited by the upstream current supply (which is 500mA with USB).  \n",
      "\n",
      "\n",
      "##  Capacitor Selection\n",
      "\n",
      "In the interest of simplicity, it's advantageous to just copy the section 9.2 (of the TPS63060 datasheet) reference design.  \n",
      "\n",
      "<img src=\"tps63060_reference_design.png\">\n",
      "<center>*TPS63060 Reference Design for 5V output.  Referenced from datasheet.*\n",
      "\n",
      "\n",
      "However, the input and output capacitance seems unnecessarily large, and also the DC derating on a 16V 22uF, 0805 capacitor will be about 80%.  Interestingly, the Self Resonant Frequency of the 0805 package hovers around 2.4MHz.  From the Taiyo Yuden website:\n",
      "\n",
      "\n",
      "<img src=\"EMK212ABJ106MG_10uF_0805.png\">\n",
      "<center>*Taiyo Yuden, 0805, 10uF, 16V capacitor, DC derating and SRF.  This means at 5V, this capacitor has 4V effective capacitance.*  \n",
      "\n",
      "<img src=\"22uF_0805.png\">\n",
      "<center>*Taiyo Yuden, 0805, 22uF, 16V capacitor, DC derating and SRF.  This cap is derated 60% at 5V and has a SRF of probably less than 2.4MHz.*  \n",
      "\n",
      "Below is a GRM21BR61E475KA12 from Murata; 4.7uF, 0805, 25V, X5R cap. \n",
      "\n",
      "<img src=\"ipython_files/GRM21BR61E475KA12_10uF_0805_25V.png\">\n",
      "<center>*Murata, 0805, 4.7uF, 25V, X5R capacitor*\n",
      "\n",
      "\n",
      "So I argue that the 66uF of output capacitance on the reference design is really only about 26uF of actual capacitance.  Let's re-evaluate the capacitor choices.  \n",
      "\n",
      "Consider that the switching supply is 2.4MHz, so the cycle time is $\\tau = \\frac{1}{2.4MHz} = 416 ns$\n",
      "\n",
      "The maximum current load step would be, let's say for argument, 500mA.  The maximum voltage transient that we'd like to see would be 50mV.  \n",
      "\n",
      "<center>$V = \\frac{1}{C}\\int i dt$\n",
      "\n",
      "<center> $ C =  4.16uF$\n",
      "\n",
      "So we can put a 4.7uF, 0805, 25V cap at the input and output of the switcher and theoretically do alright.  In practice, we will put a 100nF, 0402 + the 4.7uF 0805, + several more unpopulated caps, maybe including 1206 packages.  We will build and test the switcher in minimal populated mode and then add additional capacitance as needed.  \n",
      "\n",
      "\n",
      "\n"
     ]
    },
    {
     "cell_type": "code",
     "collapsed": false,
     "input": [
      "11/.003\n",
      "\n"
     ],
     "language": "python",
     "metadata": {},
     "outputs": [
      {
       "metadata": {},
       "output_type": "pyout",
       "prompt_number": 8,
       "text": [
        "3666.6666666666665"
       ]
      }
     ],
     "prompt_number": 8
    },
    {
     "cell_type": "code",
     "collapsed": false,
     "input": [],
     "language": "python",
     "metadata": {},
     "outputs": []
    }
   ],
   "metadata": {}
  }
 ]
}